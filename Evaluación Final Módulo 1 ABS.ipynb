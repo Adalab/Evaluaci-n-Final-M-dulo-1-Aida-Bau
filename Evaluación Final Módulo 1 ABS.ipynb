{
 "cells": [
  {
   "cell_type": "markdown",
   "id": "ef10ecd1",
   "metadata": {},
   "source": [
    "Evaluación Final Módulo 1 Aida Bau"
   ]
  }
 ],
 "metadata": {
  "language_info": {
   "name": "python"
  }
 },
 "nbformat": 4,
 "nbformat_minor": 5
}
