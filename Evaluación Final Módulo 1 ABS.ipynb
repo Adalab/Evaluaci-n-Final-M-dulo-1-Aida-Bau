{
 "cells": [
  {
   "cell_type": "markdown",
   "id": "ef10ecd1",
   "metadata": {},
   "source": [
    "### Evaluación Final Módulo 1 Aida Bau\n",
    "#### Evaluación clases\n",
    "\n",
    "##### _Tienda Online Viste a tu rollo_"
   ]
  },
  {
   "cell_type": "code",
   "execution_count": 168,
   "id": "dfb1541d",
   "metadata": {},
   "outputs": [
    {
     "ename": "_IncompleteInputError",
     "evalue": "incomplete input (271719671.py, line 68)",
     "output_type": "error",
     "traceback": [
      "  \u001b[36mCell\u001b[39m\u001b[36m \u001b[39m\u001b[32mIn[168]\u001b[39m\u001b[32m, line 68\u001b[39m\n\u001b[31m    \u001b[39m\n    ^\n\u001b[31m_IncompleteInputError\u001b[39m\u001b[31m:\u001b[39m incomplete input\n"
     ]
    }
   ],
   "source": [
    "#1º creo las variables de los atributos con lo indicado.\n",
    "lista_inventario = []\n",
    "dicc_clientes = {}\n",
    "acumulador_ventas = 0\n",
    "\n",
    "#2º inicio la clase y defino los atributos.\n",
    "class TiendaOnline:\n",
    "    def __init__ (self, inventario, clientes, ventas_totales):\n",
    "        self.inventario = lista_inventario\n",
    "        self.clientes = dicc_clientes\n",
    "        self.ventas_totales = acumulador_ventas\n",
    "\n",
    "#3º creo el método agregar_producto.\n",
    "    def agregar_producto(self, nombre, precio, cantidad):\n",
    "        for producto in self.inventario:                      #por cada producto en el inventario\n",
    "            if producto[\"nombre\"] == nombre.lower():          #si el producto pasado es igual al nombre en el inventario y que transforme lo pasado a minúsculas\n",
    "                producto[\"cantidad\"] += cantidad              #que sume la cantidad del producto a la cantidad ya existente\n",
    "                print(f\"Se han añadido {cantidad} unidades al producto {producto['nombre']}.\")            #mensaje de confirmación\n",
    "                print(f\"Ahora hay {producto['cantidad']} unidades del producto {producto['nombre']}.\")    #mensaje que muestre la actualización del producto\n",
    "                break                     \n",
    "        else:                                                  # sino esta en el inventario, añadelo con todas las claves necesarias y el tipo de valores que espera\n",
    "            self.inventario.append({\"nombre\": nombre, \"precio\": precio, \"cantidad\": cantidad})\n",
    "            print (\"Este es un producto nuevo, se ha añadido a la lista del inventario\")                   #mensaje de confirmación\n",
    "            print (self.inventario)                            # imprimo la lista para verificar que queda añadido\n",
    "            return self.inventario\n",
    "\n",
    "#4º creo el método ver_inventario   \n",
    "    def ver_inventario(self):                            \n",
    "        for producto in self.inventario:         #por cada producto en el inventario\n",
    "            print (f\"Nombre: {producto['nombre']}, Precio: {producto['precio']}€, Cantidad: {producto['cantidad']}\")   \n",
    "            #imprime Nombre y el nombre del producto, Precio y el precio del producto, Cantidad y la cantidad del producto\n",
    "        return \n",
    "                   \n",
    "#5º creo el método buscar_producto\n",
    "    def buscar_producto(self, nombre):\n",
    "        for producto in self.inventario:                  #por cada producto en el inventario\n",
    "            if producto[\"nombre\"] == nombre.lower():      #si el producto añadido coincide con alguno del inventario y que transforme lo pasado a minúsculas\n",
    "                print (f\"Nombre: {producto['nombre']}, Precio: {producto['precio']}€, Cantidad: {producto['cantidad']}\")\n",
    "                #imprime Nombre y el nombre del producto, Precio y el precio del producto, Cantidad y la cantidad del producto\n",
    "            else:                                         #si el producto añadido no coincide con ninguno del inventario\n",
    "                print (f\"Este producto no existe\")\n",
    "                #imprime que ese producto no está en el inventario (aunque no se pide en el ejercicio, me parece más limpio así :)\n",
    "            return\n",
    "        \n",
    "#6º creo el método actualizar_stock\n",
    "    def actualizar_stock(self, nombre, cantidad):\n",
    "        for producto in self.inventario:                                     #por cada producto en el inventario \n",
    "            if producto[\"nombre\"] == nombre.lower():     #si el nombre añadido coincide con alguno del inventario y que transforme lo pasado a minúsculas \n",
    "                tipo_movimiento = input (\"¿Desea añadir o retirar?\").lower()\n",
    "                if tipo_movimiento == \"retirar\":                \n",
    "                    producto[\"cantidad\"] -= cantidad                             #resto la cantidad solicitada a la cantidad del producto\n",
    "                    print(f\"Usted a retirado {cantidad}\")\n",
    "                    print(f\"La cantidad disponible de {producto['nombre']} es {producto['cantidad']}\")\n",
    "                elif tipo_movimiento == \"añadir\":\n",
    "                    producto[\"cantidad\"] += cantidad                             #sumo la cantidad añadida a la cantidad del producto\n",
    "                    print(f\"Usted a añadido {cantidad}\")\n",
    "                    print(f\"La cantidad disponible de {producto['nombre']} es {producto['cantidad']}\")\n",
    "                break\n",
    "        else:                                                            #si el nombre añadido no coincide con ninguno del inventario\n",
    "            print (\"El producto solicitado no está en nuestro inventario\")     #imprimir que ese producto no está en el inventario\n",
    "            return\n",
    "\n",
    "#7º creo el método eliminar_producto\n",
    "    def eliminar_producto(self, nombre):\n",
    "        for producto in self.inventario:\n",
    "            \n",
    "            \n",
    "        \n"
   ]
  },
  {
   "cell_type": "code",
   "execution_count": 155,
   "id": "5017628b",
   "metadata": {},
   "outputs": [],
   "source": [
    "#Creo el objeto tienda para poder llamar a las funciones\n",
    "\n",
    "Viste_a_tu_rollo = TiendaOnline(lista_inventario, dicc_clientes, acumulador_ventas) \n",
    "#lo actualizo cada vez que creo una función para que coja la nueva"
   ]
  },
  {
   "cell_type": "code",
   "execution_count": 156,
   "id": "710adfb1",
   "metadata": {},
   "outputs": [
    {
     "name": "stdout",
     "output_type": "stream",
     "text": [
      "Este es un producto nuevo, se ha añadido a la lista del inventario\n",
      "[{'nombre': 'camisa_hawaiana', 'precio': 15, 'cantidad': 30}]\n"
     ]
    },
    {
     "data": {
      "text/plain": [
       "[{'nombre': 'camisa_hawaiana', 'precio': 15, 'cantidad': 30}]"
      ]
     },
     "execution_count": 156,
     "metadata": {},
     "output_type": "execute_result"
    }
   ],
   "source": [
    "#PRUEBA función agregar producto\n",
    "\n",
    "Viste_a_tu_rollo.agregar_producto(\"camisa_hawaiana\", precio = 15, cantidad = 30)  \n",
    "#como al imprimir no respeta el orden que le he dado en precio y cantidad, los específico"
   ]
  },
  {
   "cell_type": "code",
   "execution_count": 157,
   "id": "f0d11acd",
   "metadata": {},
   "outputs": [
    {
     "name": "stdout",
     "output_type": "stream",
     "text": [
      "Este es un producto nuevo, se ha añadido a la lista del inventario\n",
      "[{'nombre': 'camisa_hawaiana', 'precio': 15, 'cantidad': 30}, {'nombre': 'pantalon_gotico', 'precio': 25, 'cantidad': 15}]\n"
     ]
    },
    {
     "data": {
      "text/plain": [
       "[{'nombre': 'camisa_hawaiana', 'precio': 15, 'cantidad': 30},\n",
       " {'nombre': 'pantalon_gotico', 'precio': 25, 'cantidad': 15}]"
      ]
     },
     "execution_count": 157,
     "metadata": {},
     "output_type": "execute_result"
    }
   ],
   "source": [
    "#Añado otro producto al inventario para ver en la lista y luego modificarlo\n",
    "\n",
    "Viste_a_tu_rollo.agregar_producto(\"pantalon_gotico\", precio = 25, cantidad = 15)"
   ]
  },
  {
   "cell_type": "code",
   "execution_count": 158,
   "id": "08c2e6e2",
   "metadata": {},
   "outputs": [
    {
     "name": "stdout",
     "output_type": "stream",
     "text": [
      "Se han añadido 10 unidades al producto pantalon_gotico.\n",
      "Ahora hay 25 unidades del producto pantalon_gotico.\n"
     ]
    }
   ],
   "source": [
    "#PRUEBA modificar cantidad del producto\n",
    "\n",
    "Viste_a_tu_rollo.agregar_producto(\"pantalon_gotico\", precio = 25, cantidad = 10)"
   ]
  },
  {
   "cell_type": "code",
   "execution_count": 159,
   "id": "59150cd8",
   "metadata": {},
   "outputs": [
    {
     "name": "stdout",
     "output_type": "stream",
     "text": [
      "Se han añadido 5 unidades al producto camisa_hawaiana.\n",
      "Ahora hay 35 unidades del producto camisa_hawaiana.\n"
     ]
    }
   ],
   "source": [
    "#PRUEBA modificar cantidad del producto con mayúsculas\n",
    "\n",
    "Viste_a_tu_rollo.agregar_producto(\"Camisa_Hawaiana\", precio = 15, cantidad = 5)"
   ]
  },
  {
   "cell_type": "code",
   "execution_count": 160,
   "id": "d12c95ad",
   "metadata": {},
   "outputs": [
    {
     "name": "stdout",
     "output_type": "stream",
     "text": [
      "Nombre: camisa_hawaiana, Precio: 15€, Cantidad: 35\n",
      "Nombre: pantalon_gotico, Precio: 25€, Cantidad: 25\n"
     ]
    }
   ],
   "source": [
    "#PRUEBA función ver inventario\n",
    "\n",
    "Viste_a_tu_rollo.ver_inventario()"
   ]
  },
  {
   "cell_type": "code",
   "execution_count": 161,
   "id": "d5b9eb35",
   "metadata": {},
   "outputs": [
    {
     "name": "stdout",
     "output_type": "stream",
     "text": [
      "Nombre: camisa_hawaiana, Precio: 15€, Cantidad: 35\n"
     ]
    }
   ],
   "source": [
    "#PRUEBA función buscar producto\n",
    "\n",
    "Viste_a_tu_rollo.buscar_producto(\"camisa_hawaiana\")"
   ]
  },
  {
   "cell_type": "code",
   "execution_count": 162,
   "id": "e1df7409",
   "metadata": {},
   "outputs": [
    {
     "name": "stdout",
     "output_type": "stream",
     "text": [
      "Nombre: camisa_hawaiana, Precio: 15€, Cantidad: 35\n"
     ]
    }
   ],
   "source": [
    "#PRUEBA función buscar producto con mayúsculas\n",
    "\n",
    "Viste_a_tu_rollo.buscar_producto(\"Camisa_Hawaiana\")"
   ]
  },
  {
   "cell_type": "code",
   "execution_count": 163,
   "id": "497baab5",
   "metadata": {},
   "outputs": [
    {
     "name": "stdout",
     "output_type": "stream",
     "text": [
      "Este producto no existe\n"
     ]
    }
   ],
   "source": [
    "#PRUEBA2 función buscar producto, sino está\n",
    "\n",
    "Viste_a_tu_rollo.buscar_producto(\"falda_escocesa\")"
   ]
  },
  {
   "cell_type": "code",
   "execution_count": 164,
   "id": "5285f935",
   "metadata": {},
   "outputs": [
    {
     "name": "stdout",
     "output_type": "stream",
     "text": [
      "Usted a retirado 8\n",
      "La cantidad disponible de pantalon_gotico es 17\n"
     ]
    }
   ],
   "source": [
    "#PRUEBA1 función actualizar stock, retirar\n",
    "\n",
    "Viste_a_tu_rollo.actualizar_stock(\"pantalon_gotico\", 8)"
   ]
  },
  {
   "cell_type": "code",
   "execution_count": 165,
   "id": "ff689985",
   "metadata": {},
   "outputs": [
    {
     "name": "stdout",
     "output_type": "stream",
     "text": [
      "Usted a añadido 5\n",
      "La cantidad disponible de pantalon_gotico es 22\n"
     ]
    }
   ],
   "source": [
    "#PRUEBA2 función actualizar stock, añadir\n",
    "\n",
    "Viste_a_tu_rollo.actualizar_stock(\"pantalon_gotico\", 5)"
   ]
  },
  {
   "cell_type": "code",
   "execution_count": 166,
   "id": "e9164f08",
   "metadata": {},
   "outputs": [
    {
     "name": "stdout",
     "output_type": "stream",
     "text": [
      "El producto solicitado no está en nuestro inventario\n"
     ]
    }
   ],
   "source": [
    "#PRUEBA3 función actualizar stock, sino está\n",
    "\n",
    "Viste_a_tu_rollo.actualizar_stock(\"falda_escocesa\", 6)\n"
   ]
  },
  {
   "cell_type": "code",
   "execution_count": null,
   "id": "207b04ad",
   "metadata": {},
   "outputs": [],
   "source": []
  }
 ],
 "metadata": {
  "kernelspec": {
   "display_name": "Python 3",
   "language": "python",
   "name": "python3"
  },
  "language_info": {
   "codemirror_mode": {
    "name": "ipython",
    "version": 3
   },
   "file_extension": ".py",
   "mimetype": "text/x-python",
   "name": "python",
   "nbconvert_exporter": "python",
   "pygments_lexer": "ipython3",
   "version": "3.13.2"
  }
 },
 "nbformat": 4,
 "nbformat_minor": 5
}
